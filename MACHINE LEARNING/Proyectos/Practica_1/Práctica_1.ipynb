{
 "cells": [
  {
   "cell_type": "code",
   "execution_count": 1,
   "id": "87abbe84-7d3e-4224-9ced-761a6431b68f",
   "metadata": {},
   "outputs": [
    {
     "name": "stdout",
     "output_type": "stream",
     "text": [
      "Python : 3.13.7\n",
      "SO     : Windows-11-10.0.26100-SP0\n",
      "pandas : 2.3.3\n",
      "numpy  : 2.3.3\n",
      "matplotlib: 3.10.6\n",
      "seaborn: 0.13.2\n",
      "scikit-learn: 1.7.1\n"
     ]
    }
   ],
   "source": [
    "# Comprobando instalación correcta y versiones instaladas:\n",
    "import sys, platform\n",
    "import pandas as pd\n",
    "import numpy as np\n",
    "import matplotlib\n",
    "import seaborn as sns\n",
    "import sklearn\n",
    "\n",
    "print(\"Python :\", sys.version.split()[0])\n",
    "print(\"SO     :\", platform.platform())\n",
    "print(\"pandas :\", pd.__version__)\n",
    "print(\"numpy  :\", np.__version__)\n",
    "print(\"matplotlib:\", matplotlib.__version__)\n",
    "print(\"seaborn:\", sns.__version__)\n",
    "print(\"scikit-learn:\", sklearn.__version__)"
   ]
  },
  {
   "cell_type": "code",
   "execution_count": null,
   "id": "a90cd235-802c-4b0f-bef7-7108535e3987",
   "metadata": {},
   "outputs": [],
   "source": []
  }
 ],
 "metadata": {
  "kernelspec": {
   "display_name": "Python (machine)",
   "language": "python",
   "name": "machine"
  },
  "language_info": {
   "codemirror_mode": {
    "name": "ipython",
    "version": 3
   },
   "file_extension": ".py",
   "mimetype": "text/x-python",
   "name": "python",
   "nbconvert_exporter": "python",
   "pygments_lexer": "ipython3",
   "version": "3.13.7"
  }
 },
 "nbformat": 4,
 "nbformat_minor": 5
}
